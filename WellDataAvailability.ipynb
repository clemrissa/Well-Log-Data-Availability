{
  "nbformat": 4,
  "nbformat_minor": 0,
  "metadata": {
    "colab": {
      "name": "WellDataAvailability",
      "provenance": [],
      "collapsed_sections": [],
      "authorship_tag": "ABX9TyOx7IuzWpAlr2ELZaFiejDx",
      "include_colab_link": true
    },
    "kernelspec": {
      "name": "python3",
      "display_name": "Python 3"
    }
  },
  "cells": [
    {
      "cell_type": "markdown",
      "metadata": {
        "id": "view-in-github",
        "colab_type": "text"
      },
      "source": [
        "<a href=\"https://colab.research.google.com/github/lsaif/WellDataAvailability/blob/master/WellDataAvailability.ipynb\" target=\"_parent\"><img src=\"https://colab.research.google.com/assets/colab-badge.svg\" alt=\"Open In Colab\"/></a>"
      ]
    },
    {
      "cell_type": "code",
      "metadata": {
        "id": "ISvPZVuSf_ki"
      },
      "source": [
        "!pip install lasio"
      ],
      "execution_count": null,
      "outputs": []
    },
    {
      "cell_type": "code",
      "metadata": {
        "colab": {
          "base_uri": "https://localhost:8080/"
        },
        "id": "pLjB7vNYfp5U",
        "outputId": "99179faf-43d7-4148-c8d6-af816fa1b098"
      },
      "source": [
        "from google.colab import files\r\n",
        "from google.colab import drive\r\n",
        "drive.mount('/content/drive')\r\n",
        "\r\n",
        "import pandas as pd\r\n",
        "import numpy as np\r\n",
        "import sys\r\n",
        "import matplotlib.pyplot as plt\r\n",
        "import os\r\n",
        "import lasio\r\n",
        "\r\n",
        "np.set_printoptions(threshold=sys.maxsize)\r\n",
        "pd.set_option('display.max_rows', None)\r\n",
        "pd.set_option('display.max_columns', None)\r\n",
        "pd.set_option('display.width', None)\r\n",
        "\r\n",
        "source_dir = '/content/drive/My Drive/data/'"
      ],
      "execution_count": null,
      "outputs": [
        {
          "output_type": "stream",
          "text": [
            "Drive already mounted at /content/drive; to attempt to forcibly remount, call drive.mount(\"/content/drive\", force_remount=True).\n"
          ],
          "name": "stdout"
        }
      ]
    },
    {
      "cell_type": "code",
      "metadata": {
        "id": "3EY8UB_5gKtl"
      },
      "source": [
        "def LoadData(filename):\r\n",
        "  l = lasio.read(f\"/{source_dir}/{filename}\")\r\n",
        "  data_well = l.df()\r\n",
        "  log = list(data_well.columns.values)\r\n",
        "  header =[{'WELL': filename, \r\n",
        "           'START':l.well.STRT.value,\r\n",
        "           'STOP':l.well.STOP.value,\r\n",
        "           'STEP':l.well.STEP.value,           \r\n",
        "            'LAT':l.well.SLAT.value,\r\n",
        "           'LON':l.well.SLON.value,\r\n",
        "           'DATUM':l.well.DATUM.value}]\r\n",
        "\r\n",
        "  data_well['WELL'] = filename  \r\n",
        "\r\n",
        "  log_list = pd.DataFrame(header)\r\n",
        "  for newlog in log:\r\n",
        "    log_list[newlog]= \"v\"\r\n",
        "  return data_well, log_list"
      ],
      "execution_count": null,
      "outputs": []
    },
    {
      "cell_type": "code",
      "metadata": {
        "id": "c0FWD5omgnsu"
      },
      "source": [
        "data_raw = pd.DataFrame()\r\n",
        "well_list = pd.DataFrame()\r\n",
        "for f in sorted(os.listdir(source_dir)):\r\n",
        "  data_well, log_list = LoadData(f)\r\n",
        "  data_raw = data_raw.append(data_well)\r\n",
        "  well_list = well_list.append(log_list)\r\n",
        "  #print(well_list)"
      ],
      "execution_count": null,
      "outputs": []
    },
    {
      "cell_type": "code",
      "metadata": {
        "id": "TIr8qzdMkgk8"
      },
      "source": [
        "data_raw.to_csv('Data_Raw.csv')\r\n",
        "well_list.to_csv('LogAvailability.csv')"
      ],
      "execution_count": null,
      "outputs": []
    }
  ]
}