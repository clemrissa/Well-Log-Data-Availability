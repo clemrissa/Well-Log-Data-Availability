{
 "cells": [
  {
   "cell_type": "markdown",
   "metadata": {},
   "source": [
    "These lines below import the important library used in the process, including several options to overcome huge data problem."
   ]
  },
  {
   "cell_type": "code",
   "execution_count": null,
   "metadata": {},
   "outputs": [],
   "source": [
    "import lasio\n",
    "import pandas as pd\n",
    "import numpy as np\n",
    "import sys\n",
    "import os\n",
    "from pandas import ExcelWriter\n",
    "np.set_printoptions(threshold=sys.maxsize)\n",
    "pd.set_option('display.max_rows', None)\n",
    "pd.set_option('display.max_columns', None)\n",
    "pd.set_option('display.width', None)"
   ]
  },
  {
   "cell_type": "markdown",
   "metadata": {},
   "source": [
    "lasio will automatically try and import pandas"
   ]
  },
  {
   "cell_type": "markdown",
   "metadata": {},
   "source": [
    "To collect the wireline log start stop and steps. Can be modified to look for another well data information (location, service, etc)."
   ]
  },
  {
   "cell_type": "code",
   "execution_count": null,
   "metadata": {},
   "outputs": [],
   "source": [
    "lines = [line.rstrip('\\n') for line in open('WellList.txt')]\n",
    "location = []\n",
    "with open('WellStartStopStep.txt', 'w') as f:\n",
    "    for i in range(len(lines)):\n",
    "        l = lasio.read(os.path.join(\"File Location\",lines[i]))\n",
    "        start = l.well.STRT.value\n",
    "        stop = l.well.STOP.value\n",
    "        step = l.well.STEP.value\n",
    "        location.append(lines[i])\n",
    "        f.write(lines[i]+\" \"+\"%s\" % start+\" \"+\"%s\" % stop+\" \"+ \"%s\" % step+\"\\n\")"
   ]
  },
  {
   "cell_type": "markdown",
   "metadata": {},
   "source": [
    "If [pandas](http://pandas.pydata.org/) is installed, you can use the df() method to get a pandas [DataFrame](http://pandas.pydata.org/pandas-docs/stable/dsintro.html#dataframe) version of the data section:"
   ]
  },
  {
   "cell_type": "markdown",
   "metadata": {},
   "source": [
    "To collect wireline log data availability. The results are categorized into three types, True (if the log is available and complete throughout the wireline interval), False (if the log is available but incomplete throughout the wireline interval), and NaN (if the log is not available). User can filter the log which want to be displayed and also set the threshold in which the log is considered as incomplete."
   ]
  },
  {
   "cell_type": "code",
   "execution_count": null,
   "metadata": {},
   "outputs": [],
   "source": [
    "lines = [line.rstrip('\\n') for line in open('well.txt')]\n",
    "the_list =pd.DataFrame()\n",
    "with open('Well_Data.txt', 'w') as f:\n",
    "    for i in range(len(lines)):\n",
    "        l = lasio.read(os.path.join(\"I:\",\"Data Jawa Barat_Eksplorasi\",\"JATIBARANG EOR DATA\",\"wells\",lines[i]))\n",
    "        df = l.df()\n",
    "        complete =df.isna().sum()<100\n",
    "        complete.append(pd.Series(lines[i]),ignore_index=True)\n",
    "        the_list =pd.concat([the_list,complete.to_frame().T],sort=True)\n",
    "        #f.write(lines[i]+\" \"+\"%s\" % the_list+\"\\n\")\n",
    "        a = the_list.loc[:,the_list.columns.isin(['CAL','CALI','CALS','SP','GR','PEF','LLD','LLS','ILD','SN','MSFL','RXO','RXOZ','SFL','RHOB','RHOZ','DRHO','HDRS','NPHI','TNPH','DT','DTCO','DTL'])]\n",
    "        f.write(\"%s\" %a)"
   ]
  },
  {
   "cell_type": "code",
   "execution_count": null,
   "metadata": {},
   "outputs": [],
   "source": [
    "nanval = df['GR'].index[df['GR'].apply(np.isnan)]\n",
    "nanval"
   ]
  },
  {
   "cell_type": "markdown",
   "metadata": {},
   "source": [
    "**To check the depth of incomplete log, if available"
   ]
  },
  {
   "cell_type": "code",
   "execution_count": null,
   "metadata": {},
   "outputs": [],
   "source": [
    "step = l.well.STEP.value\n",
    "def remove_adjacent_depth(nums):\n",
    "    previous = nums[0];\n",
    "    i = 0\n",
    "    while i < (len(nums)):\n",
    "        if nums[i] == previous+step*i:\n",
    "            nums = np.delete(nums,i)\n",
    "        else:\n",
    "            previous = nums[i]\n",
    "            i=i+1\n",
    "        print (nums)\n",
    "    return nums\n",
    "\n",
    "nanval = remove_adjacent_depth(nanval)\n",
    "nanval"
   ]
  },
  {
   "cell_type": "code",
   "execution_count": null,
   "metadata": {},
   "outputs": [],
   "source": [
    "print (df['GR'].name,\"is not available at\",nanval[0],\"-\",nanval[1],\"m\")"
   ]
  },
  {
   "cell_type": "markdown",
   "metadata": {},
   "source": [
    "**To export in excel"
   ]
  },
  {
   "cell_type": "code",
   "execution_count": null,
   "metadata": {},
   "outputs": [],
   "source": [
    "lines = [line.rstrip('\\n') for line in open('wellheader_jatibarangformation.txt')]\n",
    "result=pd.DataFrame([])\n",
    "with open('Well_HeaderData.txt', 'w') as f:\n",
    "    for i in range(len(lines)):\n",
    "        l = lasio.read(os.path.join(\"I:\",\"Data Jawa Barat_Eksplorasi\",\"LAS\",lines[i]))\n",
    "        param = l.params.dictview()\n",
    "        dfparam = pd.DataFrame ([param])\n",
    "        result = pd.concat([result,dfparam])\n",
    "        print (result)\n",
    "        writer = ExcelWriter('PythonExport.xlsx')\n",
    "        dfparam.to_excel(writer,'Sheet1')\n",
    "        writer.save()"
   ]
  },
  {
   "cell_type": "markdown",
   "metadata": {},
   "source": [
    "**unfinished"
   ]
  }
 ],
 "metadata": {
  "kernelspec": {
   "display_name": "Python 3",
   "language": "python",
   "name": "python3"
  },
  "language_info": {
   "codemirror_mode": {
    "name": "ipython",
    "version": 3
   },
   "file_extension": ".py",
   "mimetype": "text/x-python",
   "name": "python",
   "nbconvert_exporter": "python",
   "pygments_lexer": "ipython3",
   "version": "3.6.5"
  }
 },
 "nbformat": 4,
 "nbformat_minor": 1
}
